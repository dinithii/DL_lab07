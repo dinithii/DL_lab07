{
  "cells": [
    {
      "cell_type": "markdown",
      "metadata": {
        "id": "view-in-github",
        "colab_type": "text"
      },
      "source": [
        "<a href=\"https://colab.research.google.com/github/dinithii/DL_lab07/blob/main/Markov_Decision_Process.ipynb\" target=\"_parent\"><img src=\"https://colab.research.google.com/assets/colab-badge.svg\" alt=\"Open In Colab\"/></a>"
      ]
    },
    {
      "cell_type": "markdown",
      "metadata": {
        "id": "-LMwDZHlsAvn"
      },
      "source": [
        "# Markov Decision Process (MDP)"
      ]
    },
    {
      "cell_type": "markdown",
      "metadata": {
        "id": "rK2etKh-sAvo"
      },
      "source": [
        "### Ransalu Senanayake"
      ]
    },
    {
      "cell_type": "code",
      "execution_count": null,
      "metadata": {
        "id": "Tlr-PNcssAvp"
      },
      "outputs": [],
      "source": [
        "import copy\n",
        "import timeit\n",
        "import numpy as np\n",
        "import matplotlib.pyplot as pl\n",
        "%matplotlib inline\n",
        "from ipywidgets import interactive\n",
        "import ipywidgets as widgets"
      ]
    },
    {
      "cell_type": "markdown",
      "metadata": {
        "id": "_f6VSXlQsAvs"
      },
      "source": [
        "Create the following grid world.\n",
        "\n",
        "**States:** A 10x10 grid\n",
        "\n",
        "**Actions:** Up, Down, Left, Right\n",
        "\n",
        "**Tranistion probabilities:**\n",
        "* 0.7 in the direction of action\n",
        "* 0.1 in the three other directions\n",
        "* The robot bounces back to the same state near edges\n",
        "\n",
        "**Rewards:**\n",
        "* (7,8) has a reward +10\n",
        "* (2,7) has a reward +3\n",
        "* (4,3) has a reward -5\n",
        "* (7,3) has a reward -10\n",
        "* No reward in other states\n",
        "\n",
        "This example is based on Decision Making Under Uncertainty by M.J. Kochenderfer."
      ]
    },
    {
      "cell_type": "code",
      "execution_count": null,
      "metadata": {
        "id": "sbT7VOEQsAvt"
      },
      "outputs": [],
      "source": [
        "#Let's define MDP paras\n",
        "def createGrid10World():\n",
        "    def xy2s(y, x):\n",
        "        x = max(x, 0)\n",
        "        y = max(y, 0)\n",
        "        x = min(x, 9)\n",
        "        y = min(y, 9)\n",
        "        out = np.ravel_multi_index(np.array([x,y]), (10,10))\n",
        "        return out\n",
        "\n",
        "    def s2xy(s):\n",
        "        x, y = np.unravel_index(s, (10,10))\n",
        "        return y, x\n",
        "\n",
        "    def gridPlot(ax, im, title='', cmap='Blues'):\n",
        "        pl.imshow(im, interpolation='none', cmap=cmap, origin='lower')\n",
        "        pl.colorbar()\n",
        "        ax.set_xticks(np.arange(0, 10, 1));\n",
        "        ax.set_yticks(np.arange(0, 10, 1));\n",
        "        ax.set_xticklabels(np.arange(0, 10, 1));\n",
        "        ax.set_yticklabels(np.arange(0, 10, 1));\n",
        "        ax.set_xticks(np.arange(-.5, 10, 1), minor=True);\n",
        "        ax.set_yticks(np.arange(-.5, 10, 1), minor=True);\n",
        "        ax.grid(which='minor', color='w', linestyle='-', linewidth=1)\n",
        "        pl.title(title);\n",
        "        return\n",
        "\n",
        "    A = ['left', 'right', 'up', 'down']\n",
        "    S = np.arange(100)\n",
        "    T = np.zeros((len(S), len(A), len(S)))\n",
        "    R = np.zeros((len(S), len(A)))\n",
        "    for s in S:\n",
        "        x, y = s2xy(s)\n",
        "        if x == 2 and y == 7:\n",
        "            R[s, :] = 3\n",
        "        elif x == 7 and y == 8:\n",
        "            R[s, :] = 10\n",
        "        else:\n",
        "            if x == 7 and y == 3:\n",
        "                R[s, :] = -10\n",
        "            elif x == 4 and y == 3:\n",
        "                R[s, :] = -5\n",
        "            elif x == 0:\n",
        "                if y == 0 or y == 9:\n",
        "                    R[s, :] = -0.2\n",
        "                else:\n",
        "                    R[s, :] = -0.1\n",
        "                R[s, 0] = -0.7\n",
        "            elif x == 9:\n",
        "                if y == 0 or y == 9:\n",
        "                    R[s, :] = -0.2\n",
        "                else:\n",
        "                    R[s, :] = -0.1\n",
        "                R[s, 1] = -0.7\n",
        "            elif y == 0:\n",
        "                if x == 0 or x == 9:\n",
        "                    R[s, :] = -0.2\n",
        "                else:\n",
        "                    R[s, :] = -0.1\n",
        "                R[s, 3] = -0.7\n",
        "            elif y == 9:\n",
        "                if x == 0 or x == 9:\n",
        "                    R[s, :] = -0.2\n",
        "                else:\n",
        "                    R[s, :] = -0.1\n",
        "                R[s, 2] = -0.7\n",
        "\n",
        "            for a in A:\n",
        "                if a == 'left':\n",
        "                    T[s, 0, xy2s(x - 1, y)] += 0.7\n",
        "                    T[s, 0, xy2s(x + 1, y)] += 0.1\n",
        "                    T[s, 0, xy2s(x, y - 1)] += 0.1\n",
        "                    T[s, 0, xy2s(x, y + 1)] += 0.1\n",
        "                elif a == 'right':\n",
        "                    T[s, 1, xy2s(x + 1, y)] += 0.7\n",
        "                    T[s, 1, xy2s(x - 1, y)] += 0.1\n",
        "                    T[s, 1, xy2s(x, y - 1)] += 0.1\n",
        "                    T[s, 1, xy2s(x, y + 1)] += 0.1\n",
        "                elif a == 'up':\n",
        "                    T[s, 2, xy2s(x, y + 1)] += 0.7\n",
        "                    T[s, 2, xy2s(x, y - 1)] += 0.1\n",
        "                    T[s, 2, xy2s(x - 1, y)] += 0.1\n",
        "                    T[s, 2, xy2s(x + 1, y)] += 0.1\n",
        "                elif a == 'down':\n",
        "                    T[s, 3, xy2s(x, y - 1)] += 0.7\n",
        "                    T[s, 3, xy2s(x, y + 1)] += 0.1\n",
        "                    T[s, 3, xy2s(x - 1, y)] += 0.1\n",
        "                    T[s, 3, xy2s(x + 1, y)] += 0.1\n",
        "\n",
        "    for a, c_x, c_y in [(0,0,0), (0,0,9),(1,9,0),(1,9,9),(2,0,9),(2,9,9),(3,0,0),(3,9,0)]:\n",
        "        R[xy2s(c_x,c_y),a] = -0.8\n",
        "\n",
        "    discount = 0.9\n",
        "\n",
        "    nextStates = {}\n",
        "    for si in range(len(S)):\n",
        "        for ai in range(len(A)):\n",
        "            nextStates[(si,ai)] = np.where((T[si, ai, :] != 0) == True)[0]\n",
        "\n",
        "    return {'S':S, 'A':A, 'T':T, 'R':R, 'discount':discount, 'nextStates':nextStates, 'gridPlot':gridPlot, 'xy2s':xy2s, 's2xy':s2xy}"
      ]
    },
    {
      "cell_type": "code",
      "execution_count": null,
      "metadata": {
        "id": "BylriiRqsAvv"
      },
      "outputs": [],
      "source": [
        "class MDP():\n",
        "    def __init__(self):\n",
        "        pass\n",
        "\n",
        "    def inbuilt_init(self, mdp_dict):\n",
        "        self.S = mdp_dict['S']\n",
        "        self.A = mdp_dict['A']\n",
        "        self.T = mdp_dict['T']\n",
        "        self.R = mdp_dict['R']\n",
        "        self.discount = mdp_dict['discount']\n",
        "        self.nextStates = mdp_dict['nextStates']\n",
        "        self.gridPlot = mdp_dict['gridPlot']\n",
        "        self.xy2s = mdp_dict['xy2s']\n",
        "        self.s2xy = mdp_dict['s2xy']"
      ]
    },
    {
      "cell_type": "code",
      "execution_count": null,
      "metadata": {
        "id": "QGcCuJpasAvy"
      },
      "outputs": [],
      "source": [
        "#Define the MDP\n",
        "mdp = MDP()\n",
        "mdp.inbuilt_init(mdp_dict=createGrid10World())\n",
        "\n",
        "#Plot states\n",
        "pl.figure(figsize=(3,3))\n",
        "mdp.gridPlot(ax=pl.gca(), im=mdp.S.reshape((10,10)), title='States', cmap='Greys')\n",
        "\n",
        "#Plot rewards\n",
        "pl.figure(figsize=(15,3))\n",
        "pl.suptitle('Rewards', fontsize=15)\n",
        "for a in range(4):\n",
        "    pl.subplot(1,4,a+1)\n",
        "    mdp.gridPlot(ax=pl.gca(), im=mdp.R[:,a].reshape((10,10)), title='a='+mdp.A[a], cmap='jet')\n",
        "pl.show()\n",
        "\n",
        "#Plot rewards\n",
        "pl.figure(figsize=(15,3))\n",
        "pl.suptitle('Rewards - clipped larger +ve values for visualizing the edges', fontsize=15)\n",
        "for a in range(4):\n",
        "    pl.subplot(1,4,a+1)\n",
        "    mdp.gridPlot(ax=pl.gca(), im=np.clip(mdp.R[:,a].reshape((10,10)), -1, -0.5), title='a='+mdp.A[a], cmap='jet')\n",
        "pl.show()\n",
        "\n",
        "#Plot rewards\n",
        "s0_x, s0_y = 3, 5\n",
        "s0 = mdp.xy2s(s0_x, s0_y)\n",
        "pl.figure(figsize=(15,3))\n",
        "pl.suptitle('Transition probabilities T(s1|s0=({},{}),a)'.format(s0_x, s0_y), fontsize=15)\n",
        "for a in range(4):\n",
        "    pl.subplot(1,4,a+1)\n",
        "    mdp.gridPlot(ax=pl.gca(), im=mdp.T[s0,a,:].reshape((10,10)), title='a='+mdp.A[a], cmap='Blues')\n",
        "pl.show()"
      ]
    },
    {
      "cell_type": "code",
      "execution_count": null,
      "metadata": {
        "id": "WSh9F6O2sAv1"
      },
      "outputs": [],
      "source": [
        "from IPython.display import display\n",
        "\n",
        "# An interactive plot of transition probabilities\n",
        "def f(s0_x, s0_y, action):\n",
        "    a = mdp.A.index(action)\n",
        "    s0 = mdp.xy2s(int(s0_x), int(s0_y))\n",
        "    pl.figure(figsize=(6,6))\n",
        "    title = 'Transition probabilities T(s1|s0=({},{}),a={})'.format(int(s0_x),int(s0_y),action)\n",
        "    mdp.gridPlot(ax=pl.gca(), im=mdp.T[s0,a,:].reshape((10,10)), title=title, cmap='Blues')\n",
        "    pl.show()\n",
        "\n",
        "interactive_plot = interactive(f, s0_x='4', s0_y='5', action=widgets.ToggleButtons(options=['left', 'right', 'up', 'down']))\n",
        "display(interactive_plot)\n"
      ]
    },
    {
      "cell_type": "markdown",
      "metadata": {
        "id": "CRtcTdgOsAv4"
      },
      "source": [
        "### 1. Policy evaluation\n",
        "\n",
        "Computing the utility, U.\n",
        "\n",
        "$U^\\pi_k(s) = R(s, \\pi(s)) + \\gamma \\sum_{s'} T(s' \\mid s, \\pi(s))U^\\pi_{k-1}(s')$"
      ]
    },
    {
      "cell_type": "code",
      "execution_count": null,
      "metadata": {
        "id": "cT2yS--rsAv4"
      },
      "outputs": [],
      "source": [
        "def iterativePolicyEvaluation(mdp, policy, numIterations=10):\n",
        "    U = np.zeros(len(mdp.S))\n",
        "    U_old = copy.copy(U)\n",
        "    for t in range(numIterations):\n",
        "        #type your code here\n",
        "        U_old = copy.copy(U)\n",
        "        for s in mdp.S:\n",
        "          a = policy if isinstance(policy, int) else policy[s]\n",
        "          U[s] = mdp.R[s,a] + mdp.discount * np.sum(mdp.T[s,a,s1] * U_old[s1]for s1 in mdp.nextStates[(s,a)])\n",
        "        return U\n",
        "\n",
        "numIterations = 5\n",
        "pl.figure(figsize=(15,3))\n",
        "pl.suptitle('Utilities', fontsize=15)\n",
        "for a in range(4):\n",
        "    pl.subplot(1,4,a+1)\n",
        "    U = iterativePolicyEvaluation(mdp=mdp, policy=a, numIterations=numIterations)\n",
        "    mdp.gridPlot(ax=pl.gca(), im=U.reshape(10,10), title='a='+mdp.A[a], cmap='jet')\n",
        "pl.show()\n",
        "#print(np.round(U.reshape(10,10),3))"
      ]
    },
    {
      "cell_type": "code",
      "execution_count": null,
      "metadata": {
        "id": "XcMijKgbsAv7"
      },
      "outputs": [],
      "source": [
        "from IPython.display import display\n",
        "\n",
        "def f(action, numIter=1):\n",
        "    U = iterativePolicyEvaluation(mdp, policy=mdp.A.index(action), numIterations=numIter)\n",
        "    pl.figure(figsize=(3,3))\n",
        "    mdp.gridPlot(ax=pl.gca(), im=U.reshape(10,10), title='Utility', cmap='jet')\n",
        "    pl.show()\n",
        "\n",
        "interactive_plot = interactive(\n",
        "    f,\n",
        "    action=widgets.ToggleButtons(options=['left', 'right', 'up', 'down']),\n",
        "    numIter=widgets.IntSlider(min=0, max=20, step=1, value=0)\n",
        ")\n",
        "display(interactive_plot)\n"
      ]
    },
    {
      "cell_type": "code",
      "execution_count": null,
      "metadata": {
        "id": "-L8qvyKAsAv9"
      },
      "outputs": [],
      "source": [
        "#Value iteration\n",
        "def valueIteration(mdp, numIterations=1):\n",
        "    U = np.zeros(len(mdp.S))\n",
        "    for t in range(numIterations):\n",
        "        U_old = copy.copy(U)\n",
        "        for s in mdp.S:\n",
        "            U[s] = max(\n",
        "                mdp.R[s, a] + mdp.discount * sum(\n",
        "                    mdp.T[s, a, s1] * U_old[s1] for s1 in mdp.nextStates[(s, a)]\n",
        "                )\n",
        "                for a in range(len(mdp.A))\n",
        "            )\n",
        "    return U\n",
        "\n",
        "def policyExtration(mdp, U):\n",
        "    policy = np.zeros(len(mdp.S), dtype=int)\n",
        "    for s in mdp.S:\n",
        "        q_values = []\n",
        "        for a in range(len(mdp.A)):\n",
        "            q = mdp.R[s, a] + mdp.discount * sum(\n",
        "                mdp.T[s, a, s1] * U[s1] for s1 in mdp.nextStates[(s, a)]\n",
        "            )\n",
        "            q_values.append(q)\n",
        "        policy[s] = np.argmax(q_values)\n",
        "    return policy\n",
        "\n",
        "\n",
        "U = valueIteration(mdp, numIterations=2)\n",
        "policy = policyExtration(mdp, U=U)\n",
        "pl.figure(figsize=(3,3))\n",
        "mdp.gridPlot(ax=pl.gca(), im=U.reshape(10,10), title='Utility', cmap='jet')\n",
        "for s in range(100):\n",
        "    x, y = mdp.s2xy(s)\n",
        "    if policy[s] == 0:\n",
        "        m='\\u02C2'\n",
        "    elif policy[s] == 1:\n",
        "        m='\\u02C3'\n",
        "    elif policy[s] == 2:\n",
        "        m='\\u02C4'\n",
        "    elif policy[s] == 3:\n",
        "        m='\\u02C5'\n",
        "    pl.text(x-0.5,y-1,m,color='k',size=20)\n",
        "pl.show()"
      ]
    },
    {
      "cell_type": "code",
      "execution_count": null,
      "metadata": {
        "id": "W7Hvi7YdsAv_"
      },
      "outputs": [],
      "source": [
        "from IPython.display import display\n",
        "\n",
        "def f(numIter=1):\n",
        "    start_time = timeit.default_timer()\n",
        "    U = valueIteration(mdp, numIterations=numIter)\n",
        "    policy = policyExtration(mdp, U=U)\n",
        "    elapsed = timeit.default_timer() - start_time\n",
        "    print('time=', np.round(elapsed*1000,2))\n",
        "    pl.figure(figsize=(3,3))\n",
        "    mdp.gridPlot(ax=pl.gca(), im=U.reshape(10,10), title='Utility', cmap='jet')\n",
        "    for s in range(100):\n",
        "        x, y = mdp.s2xy(s)\n",
        "        if policy[s] == 0:\n",
        "            m='\\u02C2'\n",
        "        elif policy[s] == 1:\n",
        "            m='\\u02C3'\n",
        "        elif policy[s] == 2:\n",
        "            m='\\u02C4'\n",
        "        elif policy[s] == 3:\n",
        "            m='\\u02C5'\n",
        "        pl.text(x-0.5,y-1,m,color='k',size=20)\n",
        "    pl.show()\n",
        "\n",
        "interactive_plot = interactive(f, numIter=widgets.IntSlider(min=0, max=20, step=1, value=0))\n",
        "display(interactive_plot)\n"
      ]
    },
    {
      "cell_type": "markdown",
      "metadata": {
        "id": "6il1i5CesAwB"
      },
      "source": [
        "### 2. Policy iteration\n",
        "\n",
        "Policy evaluation can be used in policy iteration:\n",
        "1. Given the current policy, compute U\n",
        "2. Using U, compute a new policy"
      ]
    },
    {
      "cell_type": "code",
      "execution_count": null,
      "metadata": {
        "id": "5VzzQB0jsAwC"
      },
      "outputs": [],
      "source": [
        "def policyIteration(mdp, numIterations=1):\n",
        "    U_pi_k = np.zeros(len(mdp.S))  # initial values\n",
        "    pi_k = np.random.randint(low=0, high=len(mdp.A), size=len(mdp.S), dtype=int)  # initial policy\n",
        "    pi_kp1 = copy.copy(pi_k)\n",
        "\n",
        "    for t in range(numIterations):\n",
        "        # Policy Evaluation\n",
        "        U_pi_k = iterativePolicyEvaluation(mdp, policy=pi_k, numIterations=10)\n",
        "\n",
        "        # Policy Improvement\n",
        "        for s in mdp.S:\n",
        "            q_values = []\n",
        "            for a in range(len(mdp.A)):\n",
        "                q = mdp.R[s, a] + mdp.discount * sum(\n",
        "                    mdp.T[s, a, s1] * U_pi_k[s1] for s1 in mdp.nextStates[(s, a)]\n",
        "                )\n",
        "                q_values.append(q)\n",
        "            pi_kp1[s] = np.argmax(q_values)\n",
        "\n",
        "        if np.array_equal(pi_k, pi_kp1):\n",
        "            break\n",
        "        pi_k = copy.copy(pi_kp1)\n",
        "\n",
        "    return U_pi_k, pi_kp1\n",
        "\n",
        "\n",
        "U_pi_k, pi_kp1 = policyIteration(mdp, numIterations=2)"
      ]
    },
    {
      "cell_type": "code",
      "execution_count": null,
      "metadata": {
        "id": "lSHVZ0CwsAwE"
      },
      "outputs": [],
      "source": [
        "from IPython.display import display\n",
        "\n",
        "def f(numIter=1):\n",
        "    start_time = timeit.default_timer()\n",
        "    # code you want to evaluate\n",
        "    value, policy = policyIteration(mdp, numIterations=numIter)\n",
        "    elapsed = timeit.default_timer() - start_time\n",
        "    print('time=', np.round(elapsed*1000,2))\n",
        "    pl.figure(figsize=(3,3))\n",
        "    mdp.gridPlot(ax=pl.gca(), im=value.reshape(10,10), title='Utility', cmap='jet')\n",
        "    for s in range(100):\n",
        "        x, y = mdp.s2xy(s)\n",
        "        if policy[s] == 0:\n",
        "            m='\\u02C2'\n",
        "        elif policy[s] == 1:\n",
        "            m='\\u02C3'\n",
        "        elif policy[s] == 2:\n",
        "            m='\\u02C4'\n",
        "        elif policy[s] == 3:\n",
        "            m='\\u02C5'\n",
        "        pl.text(x-0.5,y-1,m,color='k',size=20)\n",
        "    pl.show()\n",
        "\n",
        "interactive_plot = interactive(f, numIter=widgets.IntSlider(min=0, max=20, step=1, value=0))\n",
        "display(interactive_plot)\n"
      ]
    },
    {
      "cell_type": "code",
      "source": [
        "def qLearning(mdp, episodes=1000, alpha=0.1, gamma=0.9, epsilon=0.1):\n",
        "    Q = np.zeros((len(mdp.S), len(mdp.A)))\n",
        "    rewards = []\n",
        "\n",
        "    for ep in range(episodes):\n",
        "        s = np.random.choice(mdp.S)  # start at random state\n",
        "        total_reward = 0\n",
        "        done = False\n",
        "        steps = 0\n",
        "\n",
        "        while steps < 100:  # limit episode length\n",
        "            # epsilon-greedy\n",
        "            if np.random.rand() < epsilon:\n",
        "                a = np.random.choice(len(mdp.A))\n",
        "            else:\n",
        "                a = np.argmax(Q[s, :])\n",
        "\n",
        "            # sample next state\n",
        "            s1_candidates = mdp.nextStates[(s, a)]\n",
        "            probs = mdp.T[s, a, s1_candidates]\n",
        "            s1 = np.random.choice(s1_candidates, p=probs / probs.sum())\n",
        "            r = mdp.R[s, a]\n",
        "\n",
        "            # Q update\n",
        "            Q[s, a] = Q[s, a] + alpha * (r + gamma * np.max(Q[s1, :]) - Q[s, a])\n",
        "\n",
        "            s = s1\n",
        "            total_reward += r\n",
        "            steps += 1\n",
        "\n",
        "        rewards.append(total_reward)\n",
        "\n",
        "    policy = np.argmax(Q, axis=1)\n",
        "    return Q, policy, rewards\n"
      ],
      "metadata": {
        "id": "YypRLzsSFQfe"
      },
      "execution_count": null,
      "outputs": []
    },
    {
      "cell_type": "markdown",
      "source": [
        "### Model-Based vs Model-Free RL\n",
        "\n",
        "- **Model-Based (Value Iteration / Policy Iteration)**  \n",
        "  Uses the full knowledge of environment dynamics (transition probabilities & rewards).  \n",
        "  It plans ahead by computing the optimal value function and policy.  \n",
        "  Usually faster to converge but requires full model.\n",
        "\n",
        "- **Model-Free (Q-Learning)**  \n",
        "  Learns directly from interactions without knowing the model.  \n",
        "  Updates Q-values using experience (trial-and-error).  \n",
        "  Slower to converge, but works even without knowing transitions.\n",
        "\n",
        "**Result:**  \n",
        "- Value Iteration (Model-Based) converges very quickly.  \n",
        "- Q-Learning (Model-Free) takes more episodes and longer time but learns only from experience.\n"
      ],
      "metadata": {
        "id": "JWjVjZRUmR5r"
      }
    },
    {
      "cell_type": "markdown",
      "source": [
        "![image.png](data:image/png;base64,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)"
      ],
      "metadata": {
        "id": "prl0DpRLP3gS"
      }
    },
    {
      "cell_type": "markdown",
      "source": [
        "![image.png](data:image/png;base64,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)"
      ],
      "metadata": {
        "id": "P2l0XgfIQXTd"
      }
    }
  ],
  "metadata": {
    "@webio": {
      "lastCommId": "21E8675012EB469B8DD225E5191E1594",
      "lastKernelId": "ec90fbfa-47cf-4656-a1ce-4ca4670e6701"
    },
    "colab": {
      "provenance": [],
      "include_colab_link": true
    },
    "kernelspec": {
      "display_name": "Python 3",
      "language": "python",
      "name": "python3"
    },
    "language_info": {
      "codemirror_mode": {
        "name": "ipython",
        "version": 3
      },
      "file_extension": ".py",
      "mimetype": "text/x-python",
      "name": "python",
      "nbconvert_exporter": "python",
      "pygments_lexer": "ipython3",
      "version": "3.8.8"
    }
  },
  "nbformat": 4,
  "nbformat_minor": 0
}